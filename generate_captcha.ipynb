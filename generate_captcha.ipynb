{
 "cells": [
  {
   "cell_type": "code",
   "execution_count": 1,
   "metadata": {
    "colab": {
     "base_uri": "https://localhost:8080/"
    },
    "executionInfo": {
     "elapsed": 8091,
     "status": "ok",
     "timestamp": 1681659466181,
     "user": {
      "displayName": "SARAN V",
      "userId": "06024336692293649350"
     },
     "user_tz": -330
    },
    "id": "gMnuwxulp2d-",
    "outputId": "dc7128c0-c40e-4260-887f-efb999223f8a"
   },
   "outputs": [
    {
     "name": "stdout",
     "output_type": "stream",
     "text": [
      "\u001b[?25l     \u001b[90m━━━━━━━━━━━━━━━━━━━━━━━━━━━━━━━━━━━━━━━━\u001b[0m \u001b[32m0.0/102.5 kB\u001b[0m \u001b[31m?\u001b[0m eta \u001b[36m-:--:--\u001b[0m\r",
      "\u001b[2K     \u001b[90m━━━━━━━━━━━━━━━━━━━━━━━━━━━━━━━━━━━━━━━\u001b[0m \u001b[32m102.5/102.5 kB\u001b[0m \u001b[31m5.5 MB/s\u001b[0m eta \u001b[36m0:00:00\u001b[0m\n",
      "\u001b[?25h"
     ]
    }
   ],
   "source": [
    "pip install captcha -q"
   ]
  },
  {
   "cell_type": "code",
   "execution_count": 6,
   "metadata": {
    "executionInfo": {
     "elapsed": 1011,
     "status": "ok",
     "timestamp": 1681659537722,
     "user": {
      "displayName": "SARAN V",
      "userId": "06024336692293649350"
     },
     "user_tz": -330
    },
    "id": "tSKgZRDkqFCQ"
   },
   "outputs": [],
   "source": [
    "from captcha.image import ImageCaptcha\n",
    "import random"
   ]
  },
  {
   "cell_type": "code",
   "execution_count": 7,
   "metadata": {
    "executionInfo": {
     "elapsed": 1357,
     "status": "ok",
     "timestamp": 1681659546053,
     "user": {
      "displayName": "SARAN V",
      "userId": "06024336692293649350"
     },
     "user_tz": -330
    },
    "id": "0Ey_I77nbmx-"
   },
   "outputs": [],
   "source": [
    "image=ImageCaptcha(width=200,height=50)\n",
    "characters = \"abcdefghijklmnopqrstuvwxyz0123456789\"\n",
    "captcha_text = ''.join(random.choice(characters) for i in range(5))"
   ]
  },
  {
   "cell_type": "code",
   "execution_count": 4,
   "metadata": {
    "executionInfo": {
     "elapsed": 8,
     "status": "ok",
     "timestamp": 1681659473686,
     "user": {
      "displayName": "SARAN V",
      "userId": "06024336692293649350"
     },
     "user_tz": -330
    },
    "id": "YcYqNkJ5q3sE"
   },
   "outputs": [],
   "source": [
    "data=image.generate('adfeh')"
   ]
  },
  {
   "cell_type": "code",
   "execution_count": null,
   "metadata": {
    "id": "yfW9qUxIrKYz"
   },
   "outputs": [],
   "source": [
    "for i in range(1000):\n",
    "  captcha_text = ''.join(random.choice(characters) for i in range(5))\n",
    "  name='/content/data/'+captcha_text+'.png'\n",
    "  image.write(captcha_text,name)\n"
   ]
  },
  {
   "cell_type": "code",
   "execution_count": null,
   "metadata": {
    "id": "W5lYOS-YrVBM"
   },
   "outputs": [],
   "source": [
    "for i in \"1234567890\":\n",
    "  for j in \"abcdefghijklmnopqrstuvwxyz\":\n",
    "      for l in \"0987654321\":\n",
    "        for a in \"zyxwvutsrqponmlkjihgfedcba\":\n",
    "          for b in \"123456rfvbnmjklidfsaqascpk\":\n",
    "            r=i+j+l+a+b\n",
    "            path=\"/content/drive/My Drive/captcha/captcha_generate/\"+r+\".png\"\n",
    "            image.write(r,path)"
   ]
  },
  {
   "cell_type": "code",
   "execution_count": null,
   "metadata": {
    "id": "9AK0TDhS1qnd"
   },
   "outputs": [],
   "source": [
    "pip install captcha -q\n",
    "from captcha.image import ImageCaptcha\n",
    "import random\n",
    "image=ImageCaptcha(width=200,height=50)\n",
    "characters = \"abcdefghijklmnopqrstuvwxyz0123456789\"\n",
    "for i in range(5000):\n",
    "  captcha_text = ''.join(random.choice(characters) for i in range(5))\n",
    "  name='/content/data/'+captcha_text+'.png'\n",
    "  image.write(captcha_text,name)\n"
   ]
  },
  {
   "cell_type": "code",
   "execution_count": null,
   "metadata": {
    "id": "jbk-8mXH2Jl9"
   },
   "outputs": [],
   "source": [
    "character = \"abcdefghijklmnopqrstuvwxyz\"\n",
    "for i in range(3000):\n",
    "  captcha_text = ''.join(random.choice(character) for i in range(5))\n",
    "  name='/content/data/'+captcha_text+'.png'\n",
    "  image.write(captcha_text,name)\n"
   ]
  }
 ],
 "metadata": {
  "colab": {
   "authorship_tag": "ABX9TyPpRRu758MqAKeT4A0uJv+9",
   "provenance": []
  },
  "gpuClass": "standard",
  "kernelspec": {
   "display_name": "Python 3 (ipykernel)",
   "language": "python",
   "name": "python3"
  },
  "language_info": {
   "codemirror_mode": {
    "name": "ipython",
    "version": 3
   },
   "file_extension": ".py",
   "mimetype": "text/x-python",
   "name": "python",
   "nbconvert_exporter": "python",
   "pygments_lexer": "ipython3",
   "version": "3.9.7"
  }
 },
 "nbformat": 4,
 "nbformat_minor": 1
}
